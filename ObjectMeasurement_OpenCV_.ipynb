{
  "nbformat": 4,
  "nbformat_minor": 0,
  "metadata": {
    "colab": {
      "name": "ObjectMeasurement OpenCV .ipynb",
      "provenance": [],
      "authorship_tag": "ABX9TyMkvpBCgv4wiJmRHP691NLm",
      "include_colab_link": true
    },
    "kernelspec": {
      "name": "python3",
      "display_name": "Python 3"
    },
    "accelerator": "GPU"
  },
  "cells": [
    {
      "cell_type": "markdown",
      "metadata": {
        "id": "view-in-github",
        "colab_type": "text"
      },
      "source": [
        "<a href=\"https://colab.research.google.com/github/cawllol/OpenCV/blob/master/ObjectMeasurement_OpenCV_.ipynb\" target=\"_parent\"><img src=\"https://colab.research.google.com/assets/colab-badge.svg\" alt=\"Open In Colab\"/></a>"
      ]
    },
    {
      "cell_type": "code",
      "metadata": {
        "id": "ET3pYrDdYtEb",
        "colab_type": "code",
        "colab": {}
      },
      "source": [
        "import cv2\n",
        "import utlis\n",
        "\n",
        "###################################\n",
        "webcam = True\n",
        "path = '1.jpg'\n",
        "cap = cv2.VideoCapture(0)\n",
        "cap.set(10,160)\n",
        "cap.set(3,1920)\n",
        "cap.set(4,1080)\n",
        "scale = 3\n",
        "wP = 210 *scale\n",
        "hP= 297 *scale\n",
        "###################################\n",
        "\n",
        "while True:\n",
        "    if webcam:success,img = cap.read()\n",
        "    else: img = cv2.imread(path)\n",
        "\n",
        "    imgContours , conts = utlis.getContours(img,minArea=50000,filter=4)\n",
        "    if len(conts) != 0:\n",
        "        biggest = conts[0][2]\n",
        "        #print(biggest)\n",
        "        imgWarp = utlis.warpImg(img, biggest, wP,hP)\n",
        "        imgContours2, conts2 = utlis.getContours(imgWarp,\n",
        "                                                 minArea=2000, filter=4,\n",
        "                                                 cThr=[50,50],draw = False)\n",
        "        if len(conts) != 0:\n",
        "            for obj in conts2:\n",
        "                cv2.polylines(imgContours2,[obj[2]],True,(0,255,0),2)\n",
        "                nPoints = utlis.reorder(obj[2])\n",
        "                nW = round((utlis.findDis(nPoints[0][0]//scale,nPoints[1][0]//scale)/10),1)\n",
        "                nH = round((utlis.findDis(nPoints[0][0]//scale,nPoints[2][0]//scale)/10),1)\n",
        "                cv2.arrowedLine(imgContours2, (nPoints[0][0][0], nPoints[0][0][1]), (nPoints[1][0][0], nPoints[1][0][1]),\n",
        "                                (255, 0, 255), 3, 8, 0, 0.05)\n",
        "                cv2.arrowedLine(imgContours2, (nPoints[0][0][0], nPoints[0][0][1]), (nPoints[2][0][0], nPoints[2][0][1]),\n",
        "                                (255, 0, 255), 3, 8, 0, 0.05)\n",
        "                x, y, w, h = obj[3]\n",
        "                cv2.putText(imgContours2, '{}cm'.format(nW), (x + 30, y - 10), cv2.FONT_HERSHEY_COMPLEX_SMALL, 1.5,\n",
        "                            (255, 0, 255), 2)\n",
        "                cv2.putText(imgContours2, '{}cm'.format(nH), (x - 70, y + h // 2), cv2.FONT_HERSHEY_COMPLEX_SMALL, 1.5,\n",
        "                            (255, 0, 255), 2)\n",
        "        cv2.imshow('A4', imgContours2)\n",
        "\n",
        "    img = cv2.resize(img,(0,0),None,0.5,0.5)\n",
        "    cv2.imshow('Original',img)\n",
        "    cv2.waitKey(1)"
      ],
      "execution_count": null,
      "outputs": []
    }
  ]
}