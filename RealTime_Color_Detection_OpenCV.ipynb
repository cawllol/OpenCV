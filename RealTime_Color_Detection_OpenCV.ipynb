{
  "nbformat": 4,
  "nbformat_minor": 0,
  "metadata": {
    "colab": {
      "name": "RealTime_Color_Detection OpenCV.ipynb",
      "provenance": [],
      "authorship_tag": "ABX9TyNFsAiVlmg5BZxZ/tXeCxSa",
      "include_colab_link": true
    },
    "kernelspec": {
      "name": "python3",
      "display_name": "Python 3"
    },
    "accelerator": "GPU"
  },
  "cells": [
    {
      "cell_type": "markdown",
      "metadata": {
        "id": "view-in-github",
        "colab_type": "text"
      },
      "source": [
        "<a href=\"https://colab.research.google.com/github/cawllol/OpenCV/blob/master/RealTime_Color_Detection_OpenCV.ipynb\" target=\"_parent\"><img src=\"https://colab.research.google.com/assets/colab-badge.svg\" alt=\"Open In Colab\"/></a>"
      ]
    },
    {
      "cell_type": "code",
      "metadata": {
        "id": "ET3pYrDdYtEb",
        "colab_type": "code",
        "colab": {}
      },
      "source": [
        "import cv2\n",
        "import numpy as np\n",
        "\n",
        "frameWidth = 640\n",
        "frameHeight = 480\n",
        "cap = cv2.VideoCapture(1)\n",
        "cap.set(3, frameWidth)\n",
        "cap.set(4, frameHeight)\n",
        "\n",
        "def empty(a):\n",
        "    pass\n",
        "\n",
        "cv2.namedWindow(\"HSV\")\n",
        "cv2.resizeWindow(\"HSV\",640,240)\n",
        "cv2.createTrackbar(\"HUE Min\",\"HSV\",0,179,empty)\n",
        "cv2.createTrackbar(\"HUE Max\",\"HSV\",179,179,empty)\n",
        "cv2.createTrackbar(\"SAT Min\",\"HSV\",0,255,empty)\n",
        "cv2.createTrackbar(\"SAT Max\",\"HSV\",255,255,empty)\n",
        "cv2.createTrackbar(\"VALUE Min\",\"HSV\",0,255,empty)\n",
        "cv2.createTrackbar(\"VALUE Max\",\"HSV\",255,255,empty)\n",
        "\n",
        "while True:\n",
        "\n",
        "    _, img = cap.read()\n",
        "    imgHsv = cv2.cvtColor(img,cv2.COLOR_BGR2HSV)\n",
        "\n",
        "    h_min = cv2.getTrackbarPos(\"HUE Min\",\"HSV\")\n",
        "    h_max = cv2.getTrackbarPos(\"HUE Max\", \"HSV\")\n",
        "    s_min = cv2.getTrackbarPos(\"SAT Min\", \"HSV\")\n",
        "    s_max = cv2.getTrackbarPos(\"SAT Max\", \"HSV\")\n",
        "    v_min = cv2.getTrackbarPos(\"VALUE Min\", \"HSV\")\n",
        "    v_max = cv2.getTrackbarPos(\"VALUE Max\", \"HSV\")\n",
        "    print(h_min)\n",
        "\n",
        "    lower = np.array([h_min,s_min,v_min])\n",
        "    upper = np.array([h_max,s_max,v_max])\n",
        "    mask = cv2.inRange(imgHsv,lower,upper)\n",
        "    result = cv2.bitwise_and(img,img, mask = mask)\n",
        "\n",
        "    mask = cv2.cvtColor(mask, cv2.COLOR_GRAY2BGR)\n",
        "    hStack = np.hstack([img,mask,result])\n",
        "    #cv2.imshow('Original', img)\n",
        "    #cv2.imshow('HSV Color Space', imgHsv)\n",
        "    #cv2.imshow('Mask', mask)\n",
        "   #cv2.imshow('Result', result)\n",
        "    cv2.imshow('Horizontal Stacking', hStack)\n",
        "    if cv2.waitKey(1) & 0xFF == ord('q'):\n",
        "        break\n",
        "\n",
        "cap.release()\n",
        "cv2.destroyAllWindows()"
      ],
      "execution_count": null,
      "outputs": []
    }
  ]
}