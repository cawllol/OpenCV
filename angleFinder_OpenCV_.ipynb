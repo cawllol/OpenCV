{
  "nbformat": 4,
  "nbformat_minor": 0,
  "metadata": {
    "colab": {
      "name": "angleFinder OpenCV .ipynb",
      "provenance": [],
      "authorship_tag": "ABX9TyPr5B7fj9wUHG01Z5qRG+sv",
      "include_colab_link": true
    },
    "kernelspec": {
      "name": "python3",
      "display_name": "Python 3"
    },
    "accelerator": "GPU"
  },
  "cells": [
    {
      "cell_type": "markdown",
      "metadata": {
        "id": "view-in-github",
        "colab_type": "text"
      },
      "source": [
        "<a href=\"https://colab.research.google.com/github/cawllol/OpenCV/blob/master/angleFinder_OpenCV_.ipynb\" target=\"_parent\"><img src=\"https://colab.research.google.com/assets/colab-badge.svg\" alt=\"Open In Colab\"/></a>"
      ]
    },
    {
      "cell_type": "code",
      "metadata": {
        "id": "ET3pYrDdYtEb",
        "colab_type": "code",
        "colab": {}
      },
      "source": [
        "import cv2\n",
        "import math\n",
        " \n",
        "path = 'test.jpg'\n",
        "img = cv2.imread(path)\n",
        "pointsList = []\n",
        " \n",
        "def mousePoints(event,x,y,flags,params):\n",
        "    if event == cv2.EVENT_LBUTTONDOWN:\n",
        "        size = len(pointsList)\n",
        "        if size != 0 and size % 3 != 0:\n",
        "            cv2.line(img,tuple(pointsList[round((size-1)/3)*3]),(x,y),(0,0,255),2)\n",
        "        cv2.circle(img,(x,y),5,(0,0,255),cv2.FILLED)\n",
        "        pointsList.append([x,y])\n",
        " \n",
        " \n",
        "def gradient(pt1,pt2):\n",
        "    return (pt2[1]-pt1[1])/(pt2[0]-pt1[0])\n",
        " \n",
        "def getAngle(pointsList):\n",
        "    pt1, pt2, pt3 = pointsList[-3:]\n",
        "    m1 = gradient(pt1,pt2)\n",
        "    m2 = gradient(pt1,pt3)\n",
        "    angR = math.atan((m2-m1)/(1+(m2*m1)))\n",
        "    angD = round(math.degrees(angR))\n",
        " \n",
        "    cv2.putText(img,str(angD),(pt1[0]-40,pt1[1]-20),cv2.FONT_HERSHEY_COMPLEX,\n",
        "                1.5,(0,0,255),2)\n",
        " \n",
        "while True:\n",
        " \n",
        " \n",
        "    if len(pointsList) % 3 == 0 and len(pointsList) !=0:\n",
        "        getAngle(pointsList)\n",
        " \n",
        "    cv2.imshow('Image',img)\n",
        "    cv2.setMouseCallback('Image',mousePoints)\n",
        "    if cv2.waitKey(1) & 0xFF == ord('q'):\n",
        "        pointsList = []\n",
        "        img = cv2.imread(path)"
      ],
      "execution_count": null,
      "outputs": []
    }
  ]
}