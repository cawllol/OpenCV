{
  "nbformat": 4,
  "nbformat_minor": 0,
  "metadata": {
    "colab": {
      "name": "Crop_Resize_Images OpenCV.ipynb",
      "provenance": [],
      "authorship_tag": "ABX9TyN9IX54ikRJOV7wX0b3j3A4",
      "include_colab_link": true
    },
    "kernelspec": {
      "name": "python3",
      "display_name": "Python 3"
    },
    "accelerator": "GPU"
  },
  "cells": [
    {
      "cell_type": "markdown",
      "metadata": {
        "id": "view-in-github",
        "colab_type": "text"
      },
      "source": [
        "<a href=\"https://colab.research.google.com/github/cawllol/OpenCV/blob/master/Crop_Resize_Images_OpenCV.ipynb\" target=\"_parent\"><img src=\"https://colab.research.google.com/assets/colab-badge.svg\" alt=\"Open In Colab\"/></a>"
      ]
    },
    {
      "cell_type": "code",
      "metadata": {
        "id": "8y3P0i6SXvI-",
        "colab_type": "code",
        "colab": {}
      },
      "source": [
        "import cv2\n",
        "\n",
        "path = \"Resources/road.jpg\"\n",
        "img  = cv2.imread(path)\n",
        "print(img.shape)\n",
        "\n",
        "width ,height = 1000 , 1000\n",
        "imgResize = cv2.resize(img,(width,height))\n",
        "print(imgResize.shape)\n",
        "\n",
        "imgCropped = img[300:540,430:480]\n",
        "imCropResize  = cv2.resize(imgCropped,(img.shape[1],img.shape[0]))\n",
        "\n",
        "cv2.imshow(\"Road\",img)\n",
        "cv2.imshow(\"Road Resized\",imgResize)\n",
        "cv2.imshow(\"Road Cropped\",imgCropped)\n",
        "cv2.imshow(\"Road Cropped Resized\",imCropResize)\n",
        "cv2.waitKey(0)"
      ],
      "execution_count": null,
      "outputs": []
    }
  ]
}