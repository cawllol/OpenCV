{
  "nbformat": 4,
  "nbformat_minor": 0,
  "metadata": {
    "colab": {
      "name": "Read_Image_Video_Webcam OpenCV.ipynb",
      "provenance": [],
      "authorship_tag": "ABX9TyNHt2zHXJn2S+TM1JbEWejq",
      "include_colab_link": true
    },
    "kernelspec": {
      "name": "python3",
      "display_name": "Python 3"
    },
    "accelerator": "GPU"
  },
  "cells": [
    {
      "cell_type": "markdown",
      "metadata": {
        "id": "view-in-github",
        "colab_type": "text"
      },
      "source": [
        "<a href=\"https://colab.research.google.com/github/cawllol/OpenCV/blob/master/Read_Image_Video_Webcam_OpenCV.ipynb\" target=\"_parent\"><img src=\"https://colab.research.google.com/assets/colab-badge.svg\" alt=\"Open In Colab\"/></a>"
      ]
    },
    {
      "cell_type": "code",
      "metadata": {
        "id": "ET3pYrDdYtEb",
        "colab_type": "code",
        "colab": {}
      },
      "source": [
        "# READ IMAGE \n",
        "# import cv2\n",
        "# # LOAD AN IMAGE USING 'IMREAD'\n",
        "# img = cv2.imread(\"Resources/lena.png\")\n",
        "# # DISPLAY\n",
        "# cv2.imshow(\"Lena Soderberg\",img)\n",
        "# cv2.waitKey(0)\n",
        "\n",
        "# READ VIDEO #\n",
        "# import cv2\n",
        "# frameWidth = 640\n",
        "# frameHeight = 480\n",
        "# cap = cv2.VideoCapture(\"Resources/testVideo.mp4\")\n",
        "# while True:\n",
        "#     success, img = cap.read()\n",
        "#     img = cv2.resize(img, (frameWidth, frameHeight))\n",
        "#     cv2.imshow(\"Result\", img)\n",
        "#     if cv2.waitKey(1) & 0xFF == ord('q'):\n",
        "#         break\n",
        "# READ WEBCAM\n",
        "import cv2\n",
        "frameWidth = 640\n",
        "frameHeight = 480\n",
        "cap = cv2.VideoCapture(0)\n",
        "cap.set(3, frameWidth)\n",
        "cap.set(4, frameHeight)\n",
        "while True:\n",
        "    success, img = cap.read()\n",
        "    cv2.imshow(\"Result\", img)\n",
        "    if cv2.waitKey(1) & 0xFF == ord('q'):\n",
        "        break"
      ],
      "execution_count": null,
      "outputs": []
    }
  ]
}