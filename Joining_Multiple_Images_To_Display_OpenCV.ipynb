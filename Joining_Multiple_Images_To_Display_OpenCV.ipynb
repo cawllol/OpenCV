{
  "nbformat": 4,
  "nbformat_minor": 0,
  "metadata": {
    "colab": {
      "name": "Joining_Multiple_Images_To_Display OpenCV.ipynb",
      "provenance": [],
      "authorship_tag": "ABX9TyNUTtRlkFpJCJrhZK4Ynxun",
      "include_colab_link": true
    },
    "kernelspec": {
      "name": "python3",
      "display_name": "Python 3"
    },
    "accelerator": "GPU"
  },
  "cells": [
    {
      "cell_type": "markdown",
      "metadata": {
        "id": "view-in-github",
        "colab_type": "text"
      },
      "source": [
        "<a href=\"https://colab.research.google.com/github/cawllol/OpenCV/blob/master/Joining_Multiple_Images_To_Display_OpenCV.ipynb\" target=\"_parent\"><img src=\"https://colab.research.google.com/assets/colab-badge.svg\" alt=\"Open In Colab\"/></a>"
      ]
    },
    {
      "cell_type": "code",
      "metadata": {
        "id": "ZipYuSaeZ_jf",
        "colab_type": "code",
        "colab": {}
      },
      "source": [
        "# STACKING USING THE FUNCTION "
      ],
      "execution_count": null,
      "outputs": []
    },
    {
      "cell_type": "code",
      "metadata": {
        "id": "ET3pYrDdYtEb",
        "colab_type": "code",
        "colab": {}
      },
      "source": [
        "import cv2\n",
        "import numpy as np\n",
        "\n",
        "frameWidth = 640\n",
        "frameHeight = 480\n",
        "cap = cv2.VideoCapture(0)\n",
        "cap.set(3, frameWidth)\n",
        "cap.set(4, frameHeight)\n",
        "\n",
        "def stackImages(imgArray,scale,lables=[]):\n",
        "    sizeW= imgArray[0][0].shape[1]\n",
        "    sizeH = imgArray[0][0].shape[0]\n",
        "    rows = len(imgArray)\n",
        "    cols = len(imgArray[0])\n",
        "    rowsAvailable = isinstance(imgArray[0], list)\n",
        "    width = imgArray[0][0].shape[1]\n",
        "    height = imgArray[0][0].shape[0]\n",
        "    if rowsAvailable:\n",
        "        for x in range ( 0, rows):\n",
        "            for y in range(0, cols):\n",
        "                imgArray[x][y] = cv2.resize(imgArray[x][y], (sizeW, sizeH), None, scale, scale)\n",
        "                if len(imgArray[x][y].shape) == 2: imgArray[x][y]= cv2.cvtColor( imgArray[x][y], cv2.COLOR_GRAY2BGR)\n",
        "        imageBlank = np.zeros((height, width, 3), np.uint8)\n",
        "        hor = [imageBlank]*rows\n",
        "        hor_con = [imageBlank]*rows\n",
        "        for x in range(0, rows):\n",
        "            hor[x] = np.hstack(imgArray[x])\n",
        "            hor_con[x] = np.concatenate(imgArray[x])\n",
        "        ver = np.vstack(hor)\n",
        "        ver_con = np.concatenate(hor)\n",
        "    else:\n",
        "        for x in range(0, rows):\n",
        "            imgArray[x] = cv2.resize(imgArray[x], (sizeW, sizeH), None, scale, scale)\n",
        "            if len(imgArray[x].shape) == 2: imgArray[x] = cv2.cvtColor(imgArray[x], cv2.COLOR_GRAY2BGR)\n",
        "        hor= np.hstack(imgArray)\n",
        "        hor_con= np.concatenate(imgArray)\n",
        "        ver = hor\n",
        "    if len(lables) != 0:\n",
        "        eachImgWidth= int(ver.shape[1] / cols)\n",
        "        eachImgHeight = int(ver.shape[0] / rows)\n",
        "        print(eachImgHeight)\n",
        "        for d in range(0, rows):\n",
        "            for c in range (0,cols):\n",
        "                cv2.rectangle(ver,(c*eachImgWidth,eachImgHeight*d),(c*eachImgWidth+len(lables[d][c])*13+27,30+eachImgHeight*d),(255,255,255),cv2.FILLED)\n",
        "                cv2.putText(ver,lables[d][c],(eachImgWidth*c+10,eachImgHeight*d+20),cv2.FONT_HERSHEY_COMPLEX,0.7,(255,0,255),2)\n",
        "    return ver\n",
        "\n",
        "while True:\n",
        "    success, img = cap.read()\n",
        "    kernel = np.ones((5,5),np.uint8)\n",
        "    print(kernel)\n",
        "    #path = \"Resources/lena.png\"\n",
        "    #img =  cv2.imread(path)\n",
        "    imgGray = cv2.cvtColor(img,cv2.COLOR_BGR2GRAY)\n",
        "    imgBlur = cv2.GaussianBlur(imgGray,(7,7),0)\n",
        "    imgCanny = cv2.Canny(imgBlur,100,200)\n",
        "    imgDilation = cv2.dilate(imgCanny,kernel , iterations = 2)\n",
        "    imgEroded = cv2.erode(imgDilation,kernel,iterations=2)\n",
        "\n",
        "    #imgBlank = np.zeros((200,200),np.uint8)\n",
        "    StackedImages = stackImages(([img,imgGray,imgBlur],\n",
        "                                   [imgCanny,imgDilation,imgEroded]),0.6)\n",
        "    cv2.imshow(\"Staked Images\", StackedImages)\n",
        "    if cv2.waitKey(1) & 0xFF == ord('q'):\n",
        "        break"
      ],
      "execution_count": null,
      "outputs": []
    },
    {
      "cell_type": "code",
      "metadata": {
        "id": "JtI9kXLnaE-E",
        "colab_type": "code",
        "colab": {}
      },
      "source": [
        "# Stacking images without Function \n",
        "# import cv2\n",
        "# import numpy as np\n",
        "# img1 = cv2.imread('../Resources/lena.png',0)\n",
        "# img2 = cv2.imread('../Resources/land.jpg')\n",
        "# print(img1.shape)\n",
        "# print(img2.shape)\n",
        "# img1 = cv2.resize(img1, (0, 0), None, 0.5, 0.5)\n",
        "# img2 = cv2.resize(img2, (0, 0), None, 0.5, 0.5)\n",
        "# img1 = cv2.cvtColor(img1, cv2.COLOR_GRAY2BGR)\n",
        "# hor= np.hstack((img1, img2))\n",
        "# ver = np.vstack((img1, img2))\n",
        "# cv2.imshow('Vertical', ver)\n",
        "# cv2.imshow('Horizontal', hor)\n",
        "# cv2.waitKey(0)"
      ],
      "execution_count": null,
      "outputs": []
    }
  ]
}