{
  "nbformat": 4,
  "nbformat_minor": 0,
  "metadata": {
    "colab": {
      "name": "OpenCV Function.ipynb",
      "provenance": [],
      "authorship_tag": "ABX9TyPe/meW98A7hk8T+ETMPleG",
      "include_colab_link": true
    },
    "kernelspec": {
      "name": "python3",
      "display_name": "Python 3"
    },
    "accelerator": "GPU"
  },
  "cells": [
    {
      "cell_type": "markdown",
      "metadata": {
        "id": "view-in-github",
        "colab_type": "text"
      },
      "source": [
        "<a href=\"https://colab.research.google.com/github/cawllol/OpenCV/blob/master/OpenCV_Function.ipynb\" target=\"_parent\"><img src=\"https://colab.research.google.com/assets/colab-badge.svg\" alt=\"Open In Colab\"/></a>"
      ]
    },
    {
      "cell_type": "code",
      "metadata": {
        "id": "8y3P0i6SXvI-",
        "colab_type": "code",
        "colab": {}
      },
      "source": [
        "import cv2\n",
        "import numpy as np\n",
        "\n",
        "kernel = np.ones((5,5),np.uint8)\n",
        "print(kernel)\n",
        "\n",
        "path = \"Resources/lena.png\"\n",
        "img =  cv2.imread(path)\n",
        "imgGray = cv2.cvtColor(img,cv2.COLOR_BGR2GRAY)\n",
        "imgBlur = cv2.GaussianBlur(imgGray,(7,7),0)\n",
        "imgCanny = cv2.Canny(imgBlur,100,200)\n",
        "imgDilation = cv2.dilate(imgCanny,kernel , iterations = 10)\n",
        "imgEroded = cv2.erode(imgDilation,kernel,iterations=2)\n",
        "\n",
        "cv2.imshow(\"Lena\",img)\n",
        "cv2.imshow(\"GrayScale\",imgGray)\n",
        "cv2.imshow(\"Img Blur\",imgBlur)\n",
        "cv2.imshow(\"Img Canny\",imgCanny)\n",
        "cv2.imshow(\"Img Dialation\",imgDilation)\n",
        "cv2.imshow(\"Img Erosion\",imgEroded)\n",
        "cv2.waitKey(0)"
      ],
      "execution_count": null,
      "outputs": []
    }
  ]
}