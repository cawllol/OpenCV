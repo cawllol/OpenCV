{
  "nbformat": 4,
  "nbformat_minor": 0,
  "metadata": {
    "colab": {
      "name": "Augmented Reality using OpenCV Homography.ipynb",
      "provenance": [],
      "authorship_tag": "ABX9TyPqLPH85RJ0ep8B6SP+MhEA",
      "include_colab_link": true
    },
    "kernelspec": {
      "name": "python3",
      "display_name": "Python 3"
    },
    "accelerator": "GPU"
  },
  "cells": [
    {
      "cell_type": "markdown",
      "metadata": {
        "id": "view-in-github",
        "colab_type": "text"
      },
      "source": [
        "<a href=\"https://colab.research.google.com/github/cawllol/OpenCV/blob/master/Augmented_Reality_using_OpenCV_Homography.ipynb\" target=\"_parent\"><img src=\"https://colab.research.google.com/assets/colab-badge.svg\" alt=\"Open In Colab\"/></a>"
      ]
    },
    {
      "cell_type": "code",
      "metadata": {
        "id": "kcP4AoBA4OA1",
        "colab_type": "code",
        "colab": {}
      },
      "source": [
        "import cv2\n",
        "import numpy as np"
      ],
      "execution_count": 1,
      "outputs": []
    },
    {
      "cell_type": "code",
      "metadata": {
        "id": "7lKBXyW24hSm",
        "colab_type": "code",
        "colab": {}
      },
      "source": [
        "cap=cv2.VideoCapture(0)\n",
        "imgTarget=cv2.imread('TargetImage.jpg')\n",
        "myVid=cv2.VideoCapture('video.mp4')\n",
        "\n",
        "success,imgVideo=myVid.read()\n",
        "hT,wT,cT=imgTarget.shape\n",
        "imgVideo=cv2.resize(imgVideo,(wT,hT))\n",
        "\n",
        "orb=cv2.ORB_create(nfeatures=1000)\n",
        "kp1,des1=orb.detectAndCompute(imgTarget,None)\n",
        "\n",
        "while True:\n",
        "  sucess,imgWebcam=cap.read\n",
        "  kp2,des2=orb.detectAndCompute(imgWebcam,None)\n",
        "  #imgWebcam=cv2.drawKeypoints(imgWebcam,kp2,None)\n",
        "\n",
        "  bf=cv2.BFMatcher()\n",
        "  matches=bf.knnMatch(des1,des2,k=2)\n",
        "  good=[]\n",
        "  for m,n in matches:\n",
        "    if m.distance<0.75 *n.dostance:\n",
        "      good.append(m)\n",
        "  print(len(good))\n",
        "  imgFeatures=cv2.drawMatches(imgTarget,kp1,imgWebcam,kp2,good,None,flags=2)\n",
        "\n",
        "  if len(good)>20:\n",
        "    srcPts=np.floats32([kp1[m.queryIdx].pt for m in good]).reshape(-1,1,2)\n",
        "    dstPts=np.floats32([kp2[m.trainIdx].pt for m in good]).reshape(-1,1,2)\n",
        "    matrix,mask=cv2.findHomography(srcPts,dstPts,cv2.RANSAC,5)\n",
        "    print(matrix)\n",
        "    \n",
        "    #for bounding box\n",
        "    pts=np.float32([[0,0],[0,hT],[wT,hT],[wT,0]]).reshape(-1,1,2)\n",
        "    dst=cv2.perspectiveTransform(pts,matrix)\n",
        "    img2=cv2.polylines(imgWebcam,[np.int32(dst)],True,(255,0,255),3)\n",
        "\n",
        "    imgWarp=cv2.warpPerspective(imgVideo,matrix,(imgWebcam.shape[1],imgWebcam.shape[0]))\n",
        "\n",
        "  cv2.imshow('imgWarp',imgWarp)\n",
        "  cv2.imshow('img2',img2)\n",
        "  cv2.imshow('imgFeatures',imgFeatures)\n",
        "  cv2.imshow('ImgTarget',imgTarget)\n",
        "  cv2.imshow('myVid',imgVideo)\n",
        "  cv2.imshow('Webcam',imgWebcam)\n",
        "  cv2.waitKey(0)"
      ],
      "execution_count": null,
      "outputs": []
    }
  ]
}
