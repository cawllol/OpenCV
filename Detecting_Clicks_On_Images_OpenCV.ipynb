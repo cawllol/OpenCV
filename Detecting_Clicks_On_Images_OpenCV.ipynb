{
  "nbformat": 4,
  "nbformat_minor": 0,
  "metadata": {
    "colab": {
      "name": "Detecting_Clicks_On_Images OpenCV.ipynb",
      "provenance": [],
      "authorship_tag": "ABX9TyPGyaJ3PgTjKgcj8yJzwLlr",
      "include_colab_link": true
    },
    "kernelspec": {
      "name": "python3",
      "display_name": "Python 3"
    },
    "accelerator": "GPU"
  },
  "cells": [
    {
      "cell_type": "markdown",
      "metadata": {
        "id": "view-in-github",
        "colab_type": "text"
      },
      "source": [
        "<a href=\"https://colab.research.google.com/github/cawllol/OpenCV/blob/master/Detecting_Clicks_On_Images_OpenCV.ipynb\" target=\"_parent\"><img src=\"https://colab.research.google.com/assets/colab-badge.svg\" alt=\"Open In Colab\"/></a>"
      ]
    },
    {
      "cell_type": "code",
      "metadata": {
        "id": "ET3pYrDdYtEb",
        "colab_type": "code",
        "colab": {}
      },
      "source": [
        "# Simple Detect \n",
        "import cv2"
      ],
      "execution_count": null,
      "outputs": []
    },
    {
      "cell_type": "code",
      "metadata": {
        "id": "IQrGLaCTY3O3",
        "colab_type": "code",
        "colab": {}
      },
      "source": [
        "def mousePoints(event,x,y,flags,params):\n",
        "  if event == cv2.EVENT_LBUTTONDOWN:\n",
        "    print(x,y)\n",
        "img = cv2.imread('Resources/cards.jpg')\n",
        "cv2.imshow(\"Original Image \", img)\n",
        "cv2.setMouseCallback(\"Original Image \", mousePoints)\n",
        "cv2.waitKey(0)"
      ],
      "execution_count": null,
      "outputs": []
    },
    {
      "cell_type": "code",
      "metadata": {
        "id": "8y3P0i6SXvI-",
        "colab_type": "code",
        "colab": {}
      },
      "source": [
        "# WARP PRESPECTIVE IMPLEMANTAION WITH MOUSE CLICKS \n",
        "\n",
        "import numpy as np\n",
        "\n",
        "circles = np.zeros((4,2),np.int)\n",
        "counter = 0\n",
        "\n",
        "def mousePoints(event,x,y,flags,params):\n",
        "    global counter\n",
        "    if event == cv2.EVENT_LBUTTONDOWN:\n",
        "\n",
        "        circles[counter] = x,y\n",
        "        counter = counter + 1\n",
        "        print(circles)\n",
        "\n",
        "\n",
        "\n",
        "img = cv2.imread('Resources/cards.jpg')\n",
        "while True:\n",
        "\n",
        "\n",
        "    if counter == 4:\n",
        "        width, height = 250,350\n",
        "        pts1 = np.float32([circles[0],circles[1],circles[2],circles[3]])\n",
        "        pts2 = np.float32([[0,0],[width,0],[0,height],[width,height]])\n",
        "        matrix = cv2.getPerspectiveTransform(pts1,pts2)\n",
        "        imgOutput = cv2.warpPerspective(img,matrix,(width,height))\n",
        "        cv2.imshow(\"Output Image \", imgOutput)\n",
        "\n",
        "\n",
        "    for x in range (0,4):\n",
        "        cv2.circle(img,(circles[x][0],circles[x][1]),3,(0,255,0),cv2.FILLED)\n",
        "\n",
        "    cv2.imshow(\"Original Image \", img)\n",
        "    cv2.setMouseCallback(\"Original Image \", mousePoints)\n",
        "    cv2.waitKey(1)"
      ],
      "execution_count": null,
      "outputs": []
    }
  ]
}