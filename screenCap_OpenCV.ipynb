{
  "nbformat": 4,
  "nbformat_minor": 0,
  "metadata": {
    "colab": {
      "name": "screenCap OpenCV.ipynb",
      "provenance": [],
      "authorship_tag": "ABX9TyOC8r4FcQDMi/KZJb2JFNv+",
      "include_colab_link": true
    },
    "kernelspec": {
      "name": "python3",
      "display_name": "Python 3"
    },
    "accelerator": "GPU"
  },
  "cells": [
    {
      "cell_type": "markdown",
      "metadata": {
        "id": "view-in-github",
        "colab_type": "text"
      },
      "source": [
        "<a href=\"https://colab.research.google.com/github/cawllol/OpenCV/blob/master/screenCap_OpenCV.ipynb\" target=\"_parent\"><img src=\"https://colab.research.google.com/assets/colab-badge.svg\" alt=\"Open In Colab\"/></a>"
      ]
    },
    {
      "cell_type": "code",
      "metadata": {
        "id": "ET3pYrDdYtEb",
        "colab_type": "code",
        "colab": {}
      },
      "source": [
        "import numpy as np\n",
        "from PIL import ImageGrab\n",
        "import cv2\n",
        "\n",
        "\n",
        "def captureScreen(bbox=(50,50,690,530)):\n",
        "    capScr = np.array(ImageGrab.grab(bbox))\n",
        "    capScr = cv2.cvtColor(capScr, cv2.COLOR_RGB2BGR)\n",
        "    return capScr\n",
        "\n",
        "\n",
        "while True:\n",
        "    timer = cv2.getTickCount()\n",
        "    img = captureScreen()\n",
        "    fps = cv2.getTickFrequency() / (cv2.getTickCount() - timer);\n",
        "    cv2.putText(img,'FPS {}'.format(int(fps)), (75, 40), cv2.FONT_HERSHEY_SIMPLEX, 0.7, (20, 230, 20), 2)\n",
        "    cv2.imshow('Screen Capture',img)\n",
        "    cv2.waitKey(1)"
      ],
      "execution_count": null,
      "outputs": []
    }
  ]
}