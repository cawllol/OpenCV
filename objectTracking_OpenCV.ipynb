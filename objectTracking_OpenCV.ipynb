{
  "nbformat": 4,
  "nbformat_minor": 0,
  "metadata": {
    "colab": {
      "name": "objectTracking OpenCV.ipynb",
      "provenance": [],
      "authorship_tag": "ABX9TyPE528y+/R+CbHzZqNE3XS4",
      "include_colab_link": true
    },
    "kernelspec": {
      "name": "python3",
      "display_name": "Python 3"
    },
    "accelerator": "GPU"
  },
  "cells": [
    {
      "cell_type": "markdown",
      "metadata": {
        "id": "view-in-github",
        "colab_type": "text"
      },
      "source": [
        "<a href=\"https://colab.research.google.com/github/cawllol/OpenCV/blob/master/objectTracking_OpenCV.ipynb\" target=\"_parent\"><img src=\"https://colab.research.google.com/assets/colab-badge.svg\" alt=\"Open In Colab\"/></a>"
      ]
    },
    {
      "cell_type": "code",
      "metadata": {
        "id": "ET3pYrDdYtEb",
        "colab_type": "code",
        "colab": {}
      },
      "source": [
        "import cv2\n",
        "\n",
        "# Tracker Types \n",
        "\n",
        "#tracker = cv2.TrackerBoosting_create()\n",
        "#tracker = cv2.TrackerMIL_create()\n",
        "#tracker = cv2.TrackerKCF_create()\n",
        "#tracker = cv2.TrackerTLD_create()\n",
        "#tracker = cv2.TrackerMedianFlow_create()\n",
        "#tracker = cv2.TrackerCSRT_create()\n",
        "tracker = cv2.TrackerMOSSE_create()\n",
        "\n",
        "\n",
        "\n",
        "\n",
        "cap = cv2.VideoCapture(1)\n",
        "# TRACKER INITIALIZATION\n",
        "success, frame = cap.read()\n",
        "bbox = cv2.selectROI(\"Tracking\",frame, False)\n",
        "tracker.init(frame, bbox)\n",
        "\n",
        "\n",
        "def drawBox(img,bbox):\n",
        "    x, y, w, h = int(bbox[0]), int(bbox[1]), int(bbox[2]), int(bbox[3])\n",
        "    cv2.rectangle(img, (x, y), ((x + w), (y + h)), (255, 0, 255), 3, 3 )\n",
        "    cv2.putText(img, \"Tracking\", (100, 75), cv2.FONT_HERSHEY_SIMPLEX, 0.7, (0, 255, 0), 2)\n",
        "\n",
        "\n",
        "while True:\n",
        "\n",
        "    timer = cv2.getTickCount()\n",
        "    success, img = cap.read()\n",
        "    success, bbox = tracker.update(img)\n",
        "\n",
        "    if success:\n",
        "        drawBox(img,bbox)\n",
        "    else:\n",
        "        cv2.putText(img, \"Lost\", (100, 75), cv2.FONT_HERSHEY_SIMPLEX, 0.7, (0, 0, 255), 2)\n",
        "\n",
        "    cv2.rectangle(img,(15,15),(200,90),(255,0,255),2)\n",
        "    cv2.putText(img, \"Fps:\", (20, 40), cv2.FONT_HERSHEY_SIMPLEX, 0.7, (255,0,255), 2);\n",
        "    cv2.putText(img, \"Status:\", (20, 75), cv2.FONT_HERSHEY_SIMPLEX, 0.7, (255, 0, 255), 2);\n",
        "\n",
        "\n",
        "    fps = cv2.getTickFrequency() / (cv2.getTickCount() - timer);\n",
        "    if fps>60: myColor = (20,230,20)\n",
        "    elif fps>20: myColor = (230,20,20)\n",
        "    else: myColor = (20,20,230)\n",
        "    cv2.putText(img,str(int(fps)), (75, 40), cv2.FONT_HERSHEY_SIMPLEX, 0.7, myColor, 2);\n",
        "\n",
        "    cv2.imshow(\"Tracking\", img)\n",
        "    if cv2.waitKey(1) & 0xff == ord('q'):\n",
        "       break"
      ],
      "execution_count": null,
      "outputs": []
    }
  ]
}