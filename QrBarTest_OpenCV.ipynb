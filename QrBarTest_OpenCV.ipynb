{
  "nbformat": 4,
  "nbformat_minor": 0,
  "metadata": {
    "colab": {
      "name": "QrBarTest OpenCV.ipynb",
      "provenance": [],
      "authorship_tag": "ABX9TyPQPAok/MS3t753wNgsKASo",
      "include_colab_link": true
    },
    "kernelspec": {
      "name": "python3",
      "display_name": "Python 3"
    },
    "accelerator": "GPU"
  },
  "cells": [
    {
      "cell_type": "markdown",
      "metadata": {
        "id": "view-in-github",
        "colab_type": "text"
      },
      "source": [
        "<a href=\"https://colab.research.google.com/github/cawllol/OpenCV/blob/master/QrBarTest_OpenCV.ipynb\" target=\"_parent\"><img src=\"https://colab.research.google.com/assets/colab-badge.svg\" alt=\"Open In Colab\"/></a>"
      ]
    },
    {
      "cell_type": "code",
      "metadata": {
        "id": "ET3pYrDdYtEb",
        "colab_type": "code",
        "colab": {}
      },
      "source": [
        "import cv2\n",
        "import numpy as np\n",
        "from pyzbar.pyzbar import decode\n",
        "\n",
        "#img = cv2.imread('1.png')\n",
        "cap = cv2.VideoCapture(0)\n",
        "cap.set(3,640)\n",
        "cap.set(4,480)\n",
        "\n",
        "while True:\n",
        "\n",
        "    success, img = cap.read()\n",
        "    for barcode in decode(img):\n",
        "        myData = barcode.data.decode('utf-8')\n",
        "        print(myData)\n",
        "        pts = np.array([barcode.polygon],np.int32)\n",
        "        pts = pts.reshape((-1,1,2))\n",
        "        cv2.polylines(img,[pts],True,(255,0,255),5)\n",
        "        pts2 = barcode.rect\n",
        "        cv2.putText(img,myData,(pts2[0],pts2[1]),cv2.FONT_HERSHEY_SIMPLEX,\n",
        "                    0.9,(255,0,255),2)\n",
        "\n",
        "    cv2.imshow('Result',img)\n",
        "    cv2.waitKey(1)"
      ],
      "execution_count": null,
      "outputs": []
    }
  ]
}